{
  "nbformat": 4,
  "nbformat_minor": 0,
  "metadata": {
    "colab": {
      "name": "evidence.ipynb",
      "provenance": [],
      "collapsed_sections": [],
      "include_colab_link": true
    },
    "kernelspec": {
      "name": "python3",
      "display_name": "Python 3"
    }
  },
  "cells": [
    {
      "cell_type": "markdown",
      "metadata": {
        "id": "view-in-github",
        "colab_type": "text"
      },
      "source": [
        "<a href=\"https://colab.research.google.com/github/L1ttl3S1st3r/rll_evidence/blob/master/evidence.ipynb\" target=\"_parent\"><img src=\"https://colab.research.google.com/assets/colab-badge.svg\" alt=\"Open In Colab\"/></a>"
      ]
    },
    {
      "cell_type": "markdown",
      "metadata": {
        "id": "Qr-cWMCeQEdD",
        "colab_type": "text"
      },
      "source": [
        "# Доказательство, что *RLL* 2,7 эффективнее по количеству смен знака на бит информации, чем *MFM*"
      ]
    },
    {
      "cell_type": "markdown",
      "metadata": {
        "id": "w9AwzO9KQvCQ",
        "colab_type": "text"
      },
      "source": [
        "## 1. Определим задачу\n",
        "\n",
        "Пусть существуют дискретные случайные величины ${A}$ и ${B}$, принимающие значения {$\\alpha_i | i \\in (0, n)$} и {$\\beta_i | i \\in (0, m)$}. <br>\n",
        "Конкретные значения $A$ и $B$ для удобства будем называть символами. <br>\n",
        "Данные для чтения или записи представляются в виде последовательности символов $\\vec{\\alpha}$ = $(\\alpha_0,\\alpha_1,\\alpha_2,\\alpha_3, ... ,\\alpha_n)$. <br>\n",
        "Данные на ПУ (например, на жестком диске) представляются в виде последовательности символов $\\vec{\\beta}$ = $(\\beta_0,\\beta_1,\\beta_2,\\beta_3, ... ,\\beta_n)$. <br>\n",
        "Тогда запись на ПУ осуществляется через отображение $F: A \\rightarrow B$. <br><br>\n",
        "Например, есть последовательность на запись 00000001000100100010. Разбиваем её на символы: 000, 000, 010, 0010, 010, 0010. Далее по отображению, определённому в RLL, записываем на диск. Например, символ 000 будет записан как NNNTNN, где T означает \"смена знака есть\", а N - \"смены знака нет\". <br><br>\n",
        "Определена функция $W(x)$, значение которой есть количество изменений знака на бит в символе. <br><br>\n",
        "Например, $W(000) = 1 / 3$. <br>\n",
        "\n",
        "### Задача: доказать, что *RLL* 2,7 имеет $M[W(A)]$ меньше, чем у *MFM*, где $M[W(A)]$ есть математическое ожидание функции $W(x)$ случайной величины $A$."
      ]
    },
    {
      "cell_type": "markdown",
      "metadata": {
        "id": "DwAa8j6IYMG2",
        "colab_type": "text"
      },
      "source": [
        "## 2. Найдём значения $W(x)$ для $\\forall \\alpha$ и вероятности появления $\\alpha_i$ для $\\forall i$ для *RLL* и *MFM*. "
      ]
    },
    {
      "cell_type": "markdown",
      "metadata": {
        "id": "A-7k_BWpcTIZ",
        "colab_type": "text"
      },
      "source": [
        "Отображение *RLL* 2,7 $F:A \\rightarrow B$: <br>\n",
        "$11 \\rightarrow TNNN$<br>\n",
        "$10 \\rightarrow NTNN$<br>\n",
        "$000 \\rightarrow NNNTNN$<br>\n",
        "$010 \\rightarrow TNNTNN$<br>\n",
        "$011 \\rightarrow NNTNNN$<br>\n",
        "$0010 \\rightarrow NNTNNTNN$<br>\n",
        "$0011 \\rightarrow NNNNTNNN$<br><r>\n",
        "\n",
        "Вероятность появления символа $\\alpha$ есть произведение вероятностей его битов. Например, для символа 11 вероятность равна вероятности единицы умножить на вероятность единицы."
      ]
    },
    {
      "cell_type": "code",
      "metadata": {
        "id": "cUfXvNbkP14o",
        "colab_type": "code",
        "colab": {}
      },
      "source": [
        "import pandas as pd\n",
        "\n",
        "data = {\n",
        "    \"aplha_i\": [\"11\", \"10\", \"011\", \"010\", \"000\", \"0010\", \"0011\"],\n",
        "    \"p_i\": [1 / 4, 1 / 4, 1 / 8, 1 / 8, 1 / 8, 1 / 16, 1 / 16],\n",
        "    \"W(alpha_i)\": [1 / 2, 1 / 2, 1 / 3, 2 / 3, 1 / 3, 1 / 2, 1 / 4]\n",
        "}\n",
        "\n",
        "rll_stats = pd.DataFrame(data)"
      ],
      "execution_count": 0,
      "outputs": []
    },
    {
      "cell_type": "markdown",
      "metadata": {
        "id": "4SFwVpVVdXfe",
        "colab_type": "text"
      },
      "source": [
        "*rll_stats* есть данные об отображении $F$ у *RLL* 2,7"
      ]
    },
    {
      "cell_type": "code",
      "metadata": {
        "id": "erA4moJGbnhy",
        "colab_type": "code",
        "colab": {
          "base_uri": "https://localhost:8080/",
          "height": 266
        },
        "outputId": "13803dd2-9011-40ac-99c2-d8ff72170b51"
      },
      "source": [
        "rll_stats"
      ],
      "execution_count": 21,
      "outputs": [
        {
          "output_type": "execute_result",
          "data": {
            "text/html": [
              "<div>\n",
              "<style scoped>\n",
              "    .dataframe tbody tr th:only-of-type {\n",
              "        vertical-align: middle;\n",
              "    }\n",
              "\n",
              "    .dataframe tbody tr th {\n",
              "        vertical-align: top;\n",
              "    }\n",
              "\n",
              "    .dataframe thead th {\n",
              "        text-align: right;\n",
              "    }\n",
              "</style>\n",
              "<table border=\"1\" class=\"dataframe\">\n",
              "  <thead>\n",
              "    <tr style=\"text-align: right;\">\n",
              "      <th></th>\n",
              "      <th>aplha_i</th>\n",
              "      <th>p_i</th>\n",
              "      <th>W(alpha_i)</th>\n",
              "    </tr>\n",
              "  </thead>\n",
              "  <tbody>\n",
              "    <tr>\n",
              "      <th>0</th>\n",
              "      <td>11</td>\n",
              "      <td>0.2500</td>\n",
              "      <td>0.500000</td>\n",
              "    </tr>\n",
              "    <tr>\n",
              "      <th>1</th>\n",
              "      <td>10</td>\n",
              "      <td>0.2500</td>\n",
              "      <td>0.500000</td>\n",
              "    </tr>\n",
              "    <tr>\n",
              "      <th>2</th>\n",
              "      <td>011</td>\n",
              "      <td>0.1250</td>\n",
              "      <td>0.333333</td>\n",
              "    </tr>\n",
              "    <tr>\n",
              "      <th>3</th>\n",
              "      <td>010</td>\n",
              "      <td>0.1250</td>\n",
              "      <td>0.666667</td>\n",
              "    </tr>\n",
              "    <tr>\n",
              "      <th>4</th>\n",
              "      <td>000</td>\n",
              "      <td>0.1250</td>\n",
              "      <td>0.333333</td>\n",
              "    </tr>\n",
              "    <tr>\n",
              "      <th>5</th>\n",
              "      <td>0010</td>\n",
              "      <td>0.0625</td>\n",
              "      <td>0.500000</td>\n",
              "    </tr>\n",
              "    <tr>\n",
              "      <th>6</th>\n",
              "      <td>0011</td>\n",
              "      <td>0.0625</td>\n",
              "      <td>0.250000</td>\n",
              "    </tr>\n",
              "  </tbody>\n",
              "</table>\n",
              "</div>"
            ],
            "text/plain": [
              "  aplha_i     p_i  W(alpha_i)\n",
              "0      11  0.2500    0.500000\n",
              "1      10  0.2500    0.500000\n",
              "2     011  0.1250    0.333333\n",
              "3     010  0.1250    0.666667\n",
              "4     000  0.1250    0.333333\n",
              "5    0010  0.0625    0.500000\n",
              "6    0011  0.0625    0.250000"
            ]
          },
          "metadata": {
            "tags": []
          },
          "execution_count": 21
        }
      ]
    },
    {
      "cell_type": "markdown",
      "metadata": {
        "id": "G2oYQY_RfYS9",
        "colab_type": "text"
      },
      "source": [
        "Убедимся, что вероятности в сумме дают единицу"
      ]
    },
    {
      "cell_type": "code",
      "metadata": {
        "id": "_QDWLa8lfUQ2",
        "colab_type": "code",
        "colab": {
          "base_uri": "https://localhost:8080/",
          "height": 35
        },
        "outputId": "cc4ed298-bef3-4215-e1dd-0fa4bf2d6830"
      },
      "source": [
        "rll_stats['p_i'].sum()"
      ],
      "execution_count": 22,
      "outputs": [
        {
          "output_type": "execute_result",
          "data": {
            "text/plain": [
              "1.0"
            ]
          },
          "metadata": {
            "tags": []
          },
          "execution_count": 22
        }
      ]
    },
    {
      "cell_type": "markdown",
      "metadata": {
        "id": "OaiGG288dpL9",
        "colab_type": "text"
      },
      "source": [
        "Отображение MFM $F:A \\rightarrow B$: <br>\n",
        "$1 \\rightarrow TN$<br>\n",
        "$(1)0 \\rightarrow NN$<br>\n",
        "$(0)0 \\rightarrow TN$<br>"
      ]
    },
    {
      "cell_type": "code",
      "metadata": {
        "id": "RbU_nZbKf0NN",
        "colab_type": "code",
        "colab": {}
      },
      "source": [
        "data = {\n",
        "    \"aplha_i\": [\"1\", \"(0)0\", \"(1)0\"],\n",
        "    \"p_i\": [1 / 2, 1 / 4, 1 / 4],\n",
        "    \"W(alpha_i)\": [1, 1, 0]\n",
        "}\n",
        "\n",
        "mfm_stats = pd.DataFrame(data)"
      ],
      "execution_count": 0,
      "outputs": []
    },
    {
      "cell_type": "markdown",
      "metadata": {
        "id": "9G8zVhE0gYs5",
        "colab_type": "text"
      },
      "source": [
        "*mfm_stats* есть аналог *rll_stats* для *MFM*"
      ]
    },
    {
      "cell_type": "code",
      "metadata": {
        "id": "d9SAwjW9gLgJ",
        "colab_type": "code",
        "colab": {
          "base_uri": "https://localhost:8080/",
          "height": 142
        },
        "outputId": "2da1f324-3a77-4324-bbb7-25c989e70791"
      },
      "source": [
        "mfm_stats"
      ],
      "execution_count": 24,
      "outputs": [
        {
          "output_type": "execute_result",
          "data": {
            "text/html": [
              "<div>\n",
              "<style scoped>\n",
              "    .dataframe tbody tr th:only-of-type {\n",
              "        vertical-align: middle;\n",
              "    }\n",
              "\n",
              "    .dataframe tbody tr th {\n",
              "        vertical-align: top;\n",
              "    }\n",
              "\n",
              "    .dataframe thead th {\n",
              "        text-align: right;\n",
              "    }\n",
              "</style>\n",
              "<table border=\"1\" class=\"dataframe\">\n",
              "  <thead>\n",
              "    <tr style=\"text-align: right;\">\n",
              "      <th></th>\n",
              "      <th>aplha_i</th>\n",
              "      <th>p_i</th>\n",
              "      <th>W(alpha_i)</th>\n",
              "    </tr>\n",
              "  </thead>\n",
              "  <tbody>\n",
              "    <tr>\n",
              "      <th>0</th>\n",
              "      <td>1</td>\n",
              "      <td>0.50</td>\n",
              "      <td>1</td>\n",
              "    </tr>\n",
              "    <tr>\n",
              "      <th>1</th>\n",
              "      <td>(0)0</td>\n",
              "      <td>0.25</td>\n",
              "      <td>1</td>\n",
              "    </tr>\n",
              "    <tr>\n",
              "      <th>2</th>\n",
              "      <td>(1)0</td>\n",
              "      <td>0.25</td>\n",
              "      <td>0</td>\n",
              "    </tr>\n",
              "  </tbody>\n",
              "</table>\n",
              "</div>"
            ],
            "text/plain": [
              "  aplha_i   p_i  W(alpha_i)\n",
              "0       1  0.50           1\n",
              "1    (0)0  0.25           1\n",
              "2    (1)0  0.25           0"
            ]
          },
          "metadata": {
            "tags": []
          },
          "execution_count": 24
        }
      ]
    },
    {
      "cell_type": "markdown",
      "metadata": {
        "id": "JFTPoy4ZgflY",
        "colab_type": "text"
      },
      "source": [
        "## 3. Найдём $M[W(A)]$ для *RLL* 2, 7 и *MFM* и сравним"
      ]
    },
    {
      "cell_type": "markdown",
      "metadata": {
        "id": "ywoZH6X1gw6F",
        "colab_type": "text"
      },
      "source": [
        "Математическое ожидание функции $W(x)$ дискретной случайной величины $A$ находится по формуле $M[W(A)] = \\sum_{i=0}^n W(\\alpha_i) * p_i$"
      ]
    },
    {
      "cell_type": "code",
      "metadata": {
        "id": "ziWPlXI8gqM3",
        "colab_type": "code",
        "colab": {}
      },
      "source": [
        "rll_ev = (rll_stats[\"p_i\"] * rll_stats['W(alpha_i)']).sum()\n",
        "mfm_ev = (mfm_stats[\"p_i\"] * mfm_stats['W(alpha_i)']).sum()"
      ],
      "execution_count": 0,
      "outputs": []
    },
    {
      "cell_type": "markdown",
      "metadata": {
        "id": "Lvugymm8ieh2",
        "colab_type": "text"
      },
      "source": [
        "Мат. ожидание *RLL* 2,7 ="
      ]
    },
    {
      "cell_type": "code",
      "metadata": {
        "id": "KYac6c5vibAK",
        "colab_type": "code",
        "colab": {
          "base_uri": "https://localhost:8080/",
          "height": 35
        },
        "outputId": "c4f1baaa-4bc0-4912-9a81-5e23dc651328"
      },
      "source": [
        "rll_ev"
      ],
      "execution_count": 26,
      "outputs": [
        {
          "output_type": "execute_result",
          "data": {
            "text/plain": [
              "0.4635416666666667"
            ]
          },
          "metadata": {
            "tags": []
          },
          "execution_count": 26
        }
      ]
    },
    {
      "cell_type": "markdown",
      "metadata": {
        "id": "HonMkUkLioND",
        "colab_type": "text"
      },
      "source": [
        "Mат. ожидание *MFM* = "
      ]
    },
    {
      "cell_type": "code",
      "metadata": {
        "id": "rXOjM6IxirzX",
        "colab_type": "code",
        "colab": {
          "base_uri": "https://localhost:8080/",
          "height": 35
        },
        "outputId": "dd739f2c-2da7-4e7e-dace-8e0b02958619"
      },
      "source": [
        "mfm_ev"
      ],
      "execution_count": 27,
      "outputs": [
        {
          "output_type": "execute_result",
          "data": {
            "text/plain": [
              "0.75"
            ]
          },
          "metadata": {
            "tags": []
          },
          "execution_count": 27
        }
      ]
    },
    {
      "cell_type": "markdown",
      "metadata": {
        "id": "oMwthVwji_9V",
        "colab_type": "text"
      },
      "source": [
        "Отношение *MFM* к *RLL* = \n"
      ]
    },
    {
      "cell_type": "code",
      "metadata": {
        "id": "U_e5vdvrjHNP",
        "colab_type": "code",
        "colab": {
          "base_uri": "https://localhost:8080/",
          "height": 35
        },
        "outputId": "7cdf28fb-086d-4f8f-f80c-9aa500cd21bd"
      },
      "source": [
        "mfm_ev / rll_ev"
      ],
      "execution_count": 28,
      "outputs": [
        {
          "output_type": "execute_result",
          "data": {
            "text/plain": [
              "1.6179775280898876"
            ]
          },
          "metadata": {
            "tags": []
          },
          "execution_count": 28
        }
      ]
    },
    {
      "cell_type": "markdown",
      "metadata": {
        "id": "pMvDTfmJjQXH",
        "colab_type": "text"
      },
      "source": [
        "Как видим, МО *MFM* больше МО *RLL* примерно в полтора раза. Что и требовалось доказать.\n"
      ]
    }
  ]
}